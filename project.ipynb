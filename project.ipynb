{
  "cells": [
    {
      "cell_type": "markdown",
      "source": [
        "# Design an End-to-End AI Voice Assistance Pipeline"
      ],
      "metadata": {
        "id": "hdMoqXqxvq3c"
      }
    },
    {
      "cell_type": "markdown",
      "metadata": {
        "id": "bgAWQaNGrAgV"
      },
      "source": [
        "## Step 1 - Transcribe speech from an audio file into text."
      ]
    },
    {
      "cell_type": "markdown",
      "metadata": {
        "id": "ydnVVGmdrAgW"
      },
      "source": [
        "### Setup and Installation"
      ]
    },
    {
      "cell_type": "code",
      "execution_count": 1,
      "metadata": {
        "colab": {
          "base_uri": "https://localhost:8080/"
        },
        "id": "qFRHjziTYdly",
        "outputId": "b52fbf3c-2084-4345-ebd3-c4be2d6f4d60"
      },
      "outputs": [
        {
          "output_type": "stream",
          "name": "stdout",
          "text": [
            "Requirement already satisfied: librosa in /usr/local/lib/python3.10/dist-packages (0.10.2.post1)\n",
            "Collecting pydub\n",
            "  Downloading pydub-0.25.1-py2.py3-none-any.whl.metadata (1.4 kB)\n",
            "Collecting webrtcvad\n",
            "  Downloading webrtcvad-2.0.10.tar.gz (66 kB)\n",
            "\u001b[2K     \u001b[90m━━━━━━━━━━━━━━━━━━━━━━━━━━━━━━━━━━━━━━━━\u001b[0m \u001b[32m66.2/66.2 kB\u001b[0m \u001b[31m3.6 MB/s\u001b[0m eta \u001b[36m0:00:00\u001b[0m\n",
            "\u001b[?25h  Preparing metadata (setup.py) ... \u001b[?25l\u001b[?25hdone\n",
            "Requirement already satisfied: audioread>=2.1.9 in /usr/local/lib/python3.10/dist-packages (from librosa) (3.0.1)\n",
            "Requirement already satisfied: numpy!=1.22.0,!=1.22.1,!=1.22.2,>=1.20.3 in /usr/local/lib/python3.10/dist-packages (from librosa) (1.26.4)\n",
            "Requirement already satisfied: scipy>=1.2.0 in /usr/local/lib/python3.10/dist-packages (from librosa) (1.13.1)\n",
            "Requirement already satisfied: scikit-learn>=0.20.0 in /usr/local/lib/python3.10/dist-packages (from librosa) (1.3.2)\n",
            "Requirement already satisfied: joblib>=0.14 in /usr/local/lib/python3.10/dist-packages (from librosa) (1.4.2)\n",
            "Requirement already satisfied: decorator>=4.3.0 in /usr/local/lib/python3.10/dist-packages (from librosa) (4.4.2)\n",
            "Requirement already satisfied: numba>=0.51.0 in /usr/local/lib/python3.10/dist-packages (from librosa) (0.60.0)\n",
            "Requirement already satisfied: soundfile>=0.12.1 in /usr/local/lib/python3.10/dist-packages (from librosa) (0.12.1)\n",
            "Requirement already satisfied: pooch>=1.1 in /usr/local/lib/python3.10/dist-packages (from librosa) (1.8.2)\n",
            "Requirement already satisfied: soxr>=0.3.2 in /usr/local/lib/python3.10/dist-packages (from librosa) (0.4.0)\n",
            "Requirement already satisfied: typing-extensions>=4.1.1 in /usr/local/lib/python3.10/dist-packages (from librosa) (4.12.2)\n",
            "Requirement already satisfied: lazy-loader>=0.1 in /usr/local/lib/python3.10/dist-packages (from librosa) (0.4)\n",
            "Requirement already satisfied: msgpack>=1.0 in /usr/local/lib/python3.10/dist-packages (from librosa) (1.0.8)\n",
            "Requirement already satisfied: packaging in /usr/local/lib/python3.10/dist-packages (from lazy-loader>=0.1->librosa) (24.1)\n",
            "Requirement already satisfied: llvmlite<0.44,>=0.43.0dev0 in /usr/local/lib/python3.10/dist-packages (from numba>=0.51.0->librosa) (0.43.0)\n",
            "Requirement already satisfied: platformdirs>=2.5.0 in /usr/local/lib/python3.10/dist-packages (from pooch>=1.1->librosa) (4.2.2)\n",
            "Requirement already satisfied: requests>=2.19.0 in /usr/local/lib/python3.10/dist-packages (from pooch>=1.1->librosa) (2.32.3)\n",
            "Requirement already satisfied: threadpoolctl>=2.0.0 in /usr/local/lib/python3.10/dist-packages (from scikit-learn>=0.20.0->librosa) (3.5.0)\n",
            "Requirement already satisfied: cffi>=1.0 in /usr/local/lib/python3.10/dist-packages (from soundfile>=0.12.1->librosa) (1.17.0)\n",
            "Requirement already satisfied: pycparser in /usr/local/lib/python3.10/dist-packages (from cffi>=1.0->soundfile>=0.12.1->librosa) (2.22)\n",
            "Requirement already satisfied: charset-normalizer<4,>=2 in /usr/local/lib/python3.10/dist-packages (from requests>=2.19.0->pooch>=1.1->librosa) (3.3.2)\n",
            "Requirement already satisfied: idna<4,>=2.5 in /usr/local/lib/python3.10/dist-packages (from requests>=2.19.0->pooch>=1.1->librosa) (3.7)\n",
            "Requirement already satisfied: urllib3<3,>=1.21.1 in /usr/local/lib/python3.10/dist-packages (from requests>=2.19.0->pooch>=1.1->librosa) (2.0.7)\n",
            "Requirement already satisfied: certifi>=2017.4.17 in /usr/local/lib/python3.10/dist-packages (from requests>=2.19.0->pooch>=1.1->librosa) (2024.7.4)\n",
            "Downloading pydub-0.25.1-py2.py3-none-any.whl (32 kB)\n",
            "Building wheels for collected packages: webrtcvad\n",
            "  Building wheel for webrtcvad (setup.py) ... \u001b[?25l\u001b[?25hdone\n",
            "  Created wheel for webrtcvad: filename=webrtcvad-2.0.10-cp310-cp310-linux_x86_64.whl size=73459 sha256=e6e6b97c7b5f381840e02f8a84a8afdd8f25ddf2e688694fa1faaa05fb2f0540\n",
            "  Stored in directory: /root/.cache/pip/wheels/2a/2b/84/ac7bacfe8c68a87c1ee3dd3c66818a54c71599abf308e8eb35\n",
            "Successfully built webrtcvad\n",
            "Installing collected packages: webrtcvad, pydub\n",
            "Successfully installed pydub-0.25.1 webrtcvad-2.0.10\n",
            "Collecting git+https://github.com/openai/whisper.git\n",
            "  Cloning https://github.com/openai/whisper.git to /tmp/pip-req-build-pbg2l91c\n",
            "  Running command git clone --filter=blob:none --quiet https://github.com/openai/whisper.git /tmp/pip-req-build-pbg2l91c\n",
            "  Resolved https://github.com/openai/whisper.git to commit ba3f3cd54b0e5b8ce1ab3de13e32122d0d5f98ab\n",
            "  Installing build dependencies ... \u001b[?25l\u001b[?25hdone\n",
            "  Getting requirements to build wheel ... \u001b[?25l\u001b[?25hdone\n",
            "  Preparing metadata (pyproject.toml) ... \u001b[?25l\u001b[?25hdone\n",
            "Requirement already satisfied: numba in /usr/local/lib/python3.10/dist-packages (from openai-whisper==20231117) (0.60.0)\n",
            "Requirement already satisfied: numpy in /usr/local/lib/python3.10/dist-packages (from openai-whisper==20231117) (1.26.4)\n",
            "Requirement already satisfied: torch in /usr/local/lib/python3.10/dist-packages (from openai-whisper==20231117) (2.3.1+cu121)\n",
            "Requirement already satisfied: tqdm in /usr/local/lib/python3.10/dist-packages (from openai-whisper==20231117) (4.66.5)\n",
            "Requirement already satisfied: more-itertools in /usr/local/lib/python3.10/dist-packages (from openai-whisper==20231117) (10.3.0)\n",
            "Collecting tiktoken (from openai-whisper==20231117)\n",
            "  Downloading tiktoken-0.7.0-cp310-cp310-manylinux_2_17_x86_64.manylinux2014_x86_64.whl.metadata (6.6 kB)\n",
            "Requirement already satisfied: triton<3,>=2.0.0 in /usr/local/lib/python3.10/dist-packages (from openai-whisper==20231117) (2.3.1)\n",
            "Requirement already satisfied: filelock in /usr/local/lib/python3.10/dist-packages (from triton<3,>=2.0.0->openai-whisper==20231117) (3.15.4)\n",
            "Requirement already satisfied: llvmlite<0.44,>=0.43.0dev0 in /usr/local/lib/python3.10/dist-packages (from numba->openai-whisper==20231117) (0.43.0)\n",
            "Requirement already satisfied: regex>=2022.1.18 in /usr/local/lib/python3.10/dist-packages (from tiktoken->openai-whisper==20231117) (2024.5.15)\n",
            "Requirement already satisfied: requests>=2.26.0 in /usr/local/lib/python3.10/dist-packages (from tiktoken->openai-whisper==20231117) (2.32.3)\n",
            "Requirement already satisfied: typing-extensions>=4.8.0 in /usr/local/lib/python3.10/dist-packages (from torch->openai-whisper==20231117) (4.12.2)\n",
            "Requirement already satisfied: sympy in /usr/local/lib/python3.10/dist-packages (from torch->openai-whisper==20231117) (1.13.2)\n",
            "Requirement already satisfied: networkx in /usr/local/lib/python3.10/dist-packages (from torch->openai-whisper==20231117) (3.3)\n",
            "Requirement already satisfied: jinja2 in /usr/local/lib/python3.10/dist-packages (from torch->openai-whisper==20231117) (3.1.4)\n",
            "Requirement already satisfied: fsspec in /usr/local/lib/python3.10/dist-packages (from torch->openai-whisper==20231117) (2024.6.1)\n",
            "Collecting nvidia-cuda-nvrtc-cu12==12.1.105 (from torch->openai-whisper==20231117)\n",
            "  Using cached nvidia_cuda_nvrtc_cu12-12.1.105-py3-none-manylinux1_x86_64.whl.metadata (1.5 kB)\n",
            "Collecting nvidia-cuda-runtime-cu12==12.1.105 (from torch->openai-whisper==20231117)\n",
            "  Using cached nvidia_cuda_runtime_cu12-12.1.105-py3-none-manylinux1_x86_64.whl.metadata (1.5 kB)\n",
            "Collecting nvidia-cuda-cupti-cu12==12.1.105 (from torch->openai-whisper==20231117)\n",
            "  Using cached nvidia_cuda_cupti_cu12-12.1.105-py3-none-manylinux1_x86_64.whl.metadata (1.6 kB)\n",
            "Collecting nvidia-cudnn-cu12==8.9.2.26 (from torch->openai-whisper==20231117)\n",
            "  Using cached nvidia_cudnn_cu12-8.9.2.26-py3-none-manylinux1_x86_64.whl.metadata (1.6 kB)\n",
            "Collecting nvidia-cublas-cu12==12.1.3.1 (from torch->openai-whisper==20231117)\n",
            "  Using cached nvidia_cublas_cu12-12.1.3.1-py3-none-manylinux1_x86_64.whl.metadata (1.5 kB)\n",
            "Collecting nvidia-cufft-cu12==11.0.2.54 (from torch->openai-whisper==20231117)\n",
            "  Using cached nvidia_cufft_cu12-11.0.2.54-py3-none-manylinux1_x86_64.whl.metadata (1.5 kB)\n",
            "Collecting nvidia-curand-cu12==10.3.2.106 (from torch->openai-whisper==20231117)\n",
            "  Using cached nvidia_curand_cu12-10.3.2.106-py3-none-manylinux1_x86_64.whl.metadata (1.5 kB)\n",
            "Collecting nvidia-cusolver-cu12==11.4.5.107 (from torch->openai-whisper==20231117)\n",
            "  Using cached nvidia_cusolver_cu12-11.4.5.107-py3-none-manylinux1_x86_64.whl.metadata (1.6 kB)\n",
            "Collecting nvidia-cusparse-cu12==12.1.0.106 (from torch->openai-whisper==20231117)\n",
            "  Using cached nvidia_cusparse_cu12-12.1.0.106-py3-none-manylinux1_x86_64.whl.metadata (1.6 kB)\n",
            "Collecting nvidia-nccl-cu12==2.20.5 (from torch->openai-whisper==20231117)\n",
            "  Using cached nvidia_nccl_cu12-2.20.5-py3-none-manylinux2014_x86_64.whl.metadata (1.8 kB)\n",
            "Collecting nvidia-nvtx-cu12==12.1.105 (from torch->openai-whisper==20231117)\n",
            "  Using cached nvidia_nvtx_cu12-12.1.105-py3-none-manylinux1_x86_64.whl.metadata (1.7 kB)\n",
            "Collecting nvidia-nvjitlink-cu12 (from nvidia-cusolver-cu12==11.4.5.107->torch->openai-whisper==20231117)\n",
            "  Using cached nvidia_nvjitlink_cu12-12.6.20-py3-none-manylinux2014_x86_64.whl.metadata (1.5 kB)\n",
            "Requirement already satisfied: charset-normalizer<4,>=2 in /usr/local/lib/python3.10/dist-packages (from requests>=2.26.0->tiktoken->openai-whisper==20231117) (3.3.2)\n",
            "Requirement already satisfied: idna<4,>=2.5 in /usr/local/lib/python3.10/dist-packages (from requests>=2.26.0->tiktoken->openai-whisper==20231117) (3.7)\n",
            "Requirement already satisfied: urllib3<3,>=1.21.1 in /usr/local/lib/python3.10/dist-packages (from requests>=2.26.0->tiktoken->openai-whisper==20231117) (2.0.7)\n",
            "Requirement already satisfied: certifi>=2017.4.17 in /usr/local/lib/python3.10/dist-packages (from requests>=2.26.0->tiktoken->openai-whisper==20231117) (2024.7.4)\n",
            "Requirement already satisfied: MarkupSafe>=2.0 in /usr/local/lib/python3.10/dist-packages (from jinja2->torch->openai-whisper==20231117) (2.1.5)\n",
            "Requirement already satisfied: mpmath<1.4,>=1.1.0 in /usr/local/lib/python3.10/dist-packages (from sympy->torch->openai-whisper==20231117) (1.3.0)\n",
            "Downloading tiktoken-0.7.0-cp310-cp310-manylinux_2_17_x86_64.manylinux2014_x86_64.whl (1.1 MB)\n",
            "\u001b[2K   \u001b[90m━━━━━━━━━━━━━━━━━━━━━━━━━━━━━━━━━━━━━━━━\u001b[0m \u001b[32m1.1/1.1 MB\u001b[0m \u001b[31m17.6 MB/s\u001b[0m eta \u001b[36m0:00:00\u001b[0m\n",
            "\u001b[?25hUsing cached nvidia_cublas_cu12-12.1.3.1-py3-none-manylinux1_x86_64.whl (410.6 MB)\n",
            "Using cached nvidia_cuda_cupti_cu12-12.1.105-py3-none-manylinux1_x86_64.whl (14.1 MB)\n",
            "Using cached nvidia_cuda_nvrtc_cu12-12.1.105-py3-none-manylinux1_x86_64.whl (23.7 MB)\n",
            "Using cached nvidia_cuda_runtime_cu12-12.1.105-py3-none-manylinux1_x86_64.whl (823 kB)\n",
            "Using cached nvidia_cudnn_cu12-8.9.2.26-py3-none-manylinux1_x86_64.whl (731.7 MB)\n",
            "Using cached nvidia_cufft_cu12-11.0.2.54-py3-none-manylinux1_x86_64.whl (121.6 MB)\n",
            "Using cached nvidia_curand_cu12-10.3.2.106-py3-none-manylinux1_x86_64.whl (56.5 MB)\n",
            "Using cached nvidia_cusolver_cu12-11.4.5.107-py3-none-manylinux1_x86_64.whl (124.2 MB)\n",
            "Using cached nvidia_cusparse_cu12-12.1.0.106-py3-none-manylinux1_x86_64.whl (196.0 MB)\n",
            "Using cached nvidia_nccl_cu12-2.20.5-py3-none-manylinux2014_x86_64.whl (176.2 MB)\n",
            "Using cached nvidia_nvtx_cu12-12.1.105-py3-none-manylinux1_x86_64.whl (99 kB)\n",
            "Using cached nvidia_nvjitlink_cu12-12.6.20-py3-none-manylinux2014_x86_64.whl (19.7 MB)\n",
            "Building wheels for collected packages: openai-whisper\n",
            "  Building wheel for openai-whisper (pyproject.toml) ... \u001b[?25l\u001b[?25hdone\n",
            "  Created wheel for openai-whisper: filename=openai_whisper-20231117-py3-none-any.whl size=802825 sha256=d1b295b56b80504bd91452639602406af08f071a47ef20580a15bf8286bf2817\n",
            "  Stored in directory: /tmp/pip-ephem-wheel-cache-8of5punm/wheels/8b/6c/d0/622666868c179f156cf595c8b6f06f88bc5d80c4b31dccaa03\n",
            "Successfully built openai-whisper\n",
            "Installing collected packages: nvidia-nvtx-cu12, nvidia-nvjitlink-cu12, nvidia-nccl-cu12, nvidia-curand-cu12, nvidia-cufft-cu12, nvidia-cuda-runtime-cu12, nvidia-cuda-nvrtc-cu12, nvidia-cuda-cupti-cu12, nvidia-cublas-cu12, tiktoken, nvidia-cusparse-cu12, nvidia-cudnn-cu12, nvidia-cusolver-cu12, openai-whisper\n",
            "Successfully installed nvidia-cublas-cu12-12.1.3.1 nvidia-cuda-cupti-cu12-12.1.105 nvidia-cuda-nvrtc-cu12-12.1.105 nvidia-cuda-runtime-cu12-12.1.105 nvidia-cudnn-cu12-8.9.2.26 nvidia-cufft-cu12-11.0.2.54 nvidia-curand-cu12-10.3.2.106 nvidia-cusolver-cu12-11.4.5.107 nvidia-cusparse-cu12-12.1.0.106 nvidia-nccl-cu12-2.20.5 nvidia-nvjitlink-cu12-12.6.20 nvidia-nvtx-cu12-12.1.105 openai-whisper-20231117 tiktoken-0.7.0\n"
          ]
        }
      ],
      "source": [
        "!pip install librosa pydub webrtcvad\n",
        "!pip install git+https://github.com/openai/whisper.git"
      ]
    },
    {
      "cell_type": "markdown",
      "metadata": {
        "id": "jSlIbbqHrAgW"
      },
      "source": [
        "### Import Libraries"
      ]
    },
    {
      "cell_type": "code",
      "execution_count": 2,
      "metadata": {
        "id": "bEpiHTyHk6t-"
      },
      "outputs": [],
      "source": [
        "import webrtcvad\n",
        "import numpy as np\n",
        "from pydub import AudioSegment\n",
        "import whisper"
      ]
    },
    {
      "cell_type": "markdown",
      "metadata": {
        "id": "3Q7pe8ykrAgW"
      },
      "source": [
        "### Voice Activity Detection (VAD)"
      ]
    },
    {
      "cell_type": "code",
      "execution_count": 3,
      "metadata": {
        "id": "yQZ-DUvHrAgW"
      },
      "outputs": [],
      "source": [
        "def apply_vad(audio_data, sample_rate, vad_mode=0):\n",
        "    \"\"\"\n",
        "    Apply Voice Activity Detection (VAD) to the audio data.\n",
        "\n",
        "    Args:\n",
        "        audio_data (bytes): Raw audio data.\n",
        "        sample_rate (int): Sample rate of the audio data.\n",
        "        vad_mode (int): VAD aggressiveness mode (0-3).\n",
        "\n",
        "    Returns:\n",
        "        bytes: Voiced audio data.\n",
        "    \"\"\"\n",
        "    vad = webrtcvad.Vad(vad_mode)\n",
        "    frame_duration = 30  # ms\n",
        "    frame_size = int(sample_rate * frame_duration / 1000)\n",
        "    audio_data = np.frombuffer(audio_data, dtype=np.int16)\n",
        "\n",
        "    # Pad audio_data to be divisible by frame_size\n",
        "    if len(audio_data) % frame_size != 0:\n",
        "        padding_size = frame_size - (len(audio_data) % frame_size)\n",
        "        audio_data = np.pad(audio_data, (0, padding_size), 'constant', constant_values=0)\n",
        "\n",
        "    frames = [audio_data[i:i + frame_size] for i in range(0, len(audio_data), frame_size)]\n",
        "    voiced_frames = [frame.tobytes() for frame in frames if vad.is_speech(frame.tobytes(), sample_rate)]\n",
        "    return b''.join(voiced_frames)\n"
      ]
    },
    {
      "cell_type": "markdown",
      "metadata": {
        "id": "BVVH5d2FrAgX"
      },
      "source": [
        "### Audio Preprocessing"
      ]
    },
    {
      "cell_type": "code",
      "execution_count": 4,
      "metadata": {
        "id": "DHeVfISOrAgX"
      },
      "outputs": [],
      "source": [
        "def preprocess_audio(file_path, target_sample_rate=16000):\n",
        "    \"\"\"\n",
        "    Load and preprocess the audio file.\n",
        "\n",
        "    Args:\n",
        "        file_path (str): Path to the audio file.\n",
        "        target_sample_rate (int): Target sample rate.\n",
        "\n",
        "    Returns:\n",
        "        bytes: Processed audio data.\n",
        "    \"\"\"\n",
        "    audio = AudioSegment.from_file(file_path)\n",
        "    audio = audio.set_frame_rate(target_sample_rate).set_channels(1)\n",
        "    audio_data = audio.raw_data\n",
        "    audio_data = apply_vad(audio_data, target_sample_rate)\n",
        "    return audio_data\n"
      ]
    },
    {
      "cell_type": "markdown",
      "metadata": {
        "id": "dSxLTPc6rAgX"
      },
      "source": [
        "### Save Processed Audio"
      ]
    },
    {
      "cell_type": "code",
      "execution_count": 5,
      "metadata": {
        "id": "OGzx5hy1rAgX"
      },
      "outputs": [],
      "source": [
        "def save_temp_audio(audio_data, temp_path=\"temp.wav\", sample_rate=16000):\n",
        "    \"\"\"\n",
        "    Save processed audio data to a temporary file.\n",
        "\n",
        "    Args:\n",
        "        audio_data (bytes): Processed audio data.\n",
        "        temp_path (str): Path to save the temporary audio file.\n",
        "        sample_rate (int): Sample rate of the audio data.\n",
        "    \"\"\"\n",
        "    audio_segment = AudioSegment(\n",
        "        data=audio_data,\n",
        "        sample_width=2,  # 16-bit PCM\n",
        "        frame_rate=sample_rate,\n",
        "        channels=1\n",
        "    )\n",
        "    audio_segment.export(temp_path, format=\"wav\")"
      ]
    },
    {
      "cell_type": "markdown",
      "metadata": {
        "id": "OwMQsK_4rAgX"
      },
      "source": [
        "### Audio Transcription"
      ]
    },
    {
      "cell_type": "code",
      "execution_count": 6,
      "metadata": {
        "id": "X5tfExvOrAgX"
      },
      "outputs": [],
      "source": [
        "def transcribe_audio(file_path):\n",
        "    \"\"\"\n",
        "    Transcribe audio using Whisper model.\n",
        "\n",
        "    Args:\n",
        "        file_path (str): Path to the audio file.\n",
        "\n",
        "    Returns:\n",
        "        str: Transcription text.\n",
        "    \"\"\"\n",
        "    model = whisper.load_model(\"base\")\n",
        "    result = model.transcribe(file_path)\n",
        "    return result[\"text\"]"
      ]
    },
    {
      "cell_type": "markdown",
      "metadata": {
        "id": "VcDdbI99rAgY"
      },
      "source": [
        "### Testing the Whisper Model on a Example"
      ]
    },
    {
      "cell_type": "code",
      "execution_count": 7,
      "metadata": {
        "colab": {
          "base_uri": "https://localhost:8080/"
        },
        "id": "cvO8ZRWNrAgY",
        "outputId": "c6d1ff6f-37ad-4c58-a313-1c215132641c"
      },
      "outputs": [
        {
          "output_type": "stream",
          "name": "stderr",
          "text": [
            "100%|████████████████████████████████████████| 139M/139M [00:01<00:00, 127MiB/s]\n"
          ]
        },
        {
          "output_type": "stream",
          "name": "stdout",
          "text": [
            " Who is Abdul Kalam?\n"
          ]
        }
      ],
      "source": [
        "audio_data = preprocess_audio(\"Recording.mp3\")\n",
        "save_temp_audio(audio_data)\n",
        "transcription = transcribe_audio(\"temp.wav\")\n",
        "print(transcription)"
      ]
    },
    {
      "cell_type": "markdown",
      "metadata": {
        "id": "Ik12us2wrAgY"
      },
      "source": [
        "##"
      ]
    },
    {
      "cell_type": "markdown",
      "metadata": {
        "id": "KRjgOBaKrAgY"
      },
      "source": [
        "## Step 2 - Generate a response by giving the transcribed text to a LLM."
      ]
    },
    {
      "cell_type": "markdown",
      "metadata": {
        "id": "ohG3DsXSrAgY"
      },
      "source": [
        "### Setup and Installation"
      ]
    },
    {
      "cell_type": "code",
      "execution_count": 8,
      "metadata": {
        "colab": {
          "base_uri": "https://localhost:8080/"
        },
        "id": "Njk3EyXHhKY_",
        "outputId": "eceffdef-f856-4d30-8236-d2f7fb8949e8"
      },
      "outputs": [
        {
          "output_type": "stream",
          "name": "stdout",
          "text": [
            "Collecting langchain\n",
            "  Downloading langchain-0.2.14-py3-none-any.whl.metadata (7.1 kB)\n",
            "Requirement already satisfied: PyYAML>=5.3 in /usr/local/lib/python3.10/dist-packages (from langchain) (6.0.2)\n",
            "Requirement already satisfied: SQLAlchemy<3,>=1.4 in /usr/local/lib/python3.10/dist-packages (from langchain) (2.0.32)\n",
            "Requirement already satisfied: aiohttp<4.0.0,>=3.8.3 in /usr/local/lib/python3.10/dist-packages (from langchain) (3.10.5)\n",
            "Requirement already satisfied: async-timeout<5.0.0,>=4.0.0 in /usr/local/lib/python3.10/dist-packages (from langchain) (4.0.3)\n",
            "Collecting langchain-core<0.3.0,>=0.2.32 (from langchain)\n",
            "  Downloading langchain_core-0.2.34-py3-none-any.whl.metadata (6.2 kB)\n",
            "Collecting langchain-text-splitters<0.3.0,>=0.2.0 (from langchain)\n",
            "  Downloading langchain_text_splitters-0.2.2-py3-none-any.whl.metadata (2.1 kB)\n",
            "Collecting langsmith<0.2.0,>=0.1.17 (from langchain)\n",
            "  Downloading langsmith-0.1.104-py3-none-any.whl.metadata (13 kB)\n",
            "Requirement already satisfied: numpy<2,>=1 in /usr/local/lib/python3.10/dist-packages (from langchain) (1.26.4)\n",
            "Requirement already satisfied: pydantic<3,>=1 in /usr/local/lib/python3.10/dist-packages (from langchain) (2.8.2)\n",
            "Requirement already satisfied: requests<3,>=2 in /usr/local/lib/python3.10/dist-packages (from langchain) (2.32.3)\n",
            "Collecting tenacity!=8.4.0,<9.0.0,>=8.1.0 (from langchain)\n",
            "  Downloading tenacity-8.5.0-py3-none-any.whl.metadata (1.2 kB)\n",
            "Requirement already satisfied: aiohappyeyeballs>=2.3.0 in /usr/local/lib/python3.10/dist-packages (from aiohttp<4.0.0,>=3.8.3->langchain) (2.4.0)\n",
            "Requirement already satisfied: aiosignal>=1.1.2 in /usr/local/lib/python3.10/dist-packages (from aiohttp<4.0.0,>=3.8.3->langchain) (1.3.1)\n",
            "Requirement already satisfied: attrs>=17.3.0 in /usr/local/lib/python3.10/dist-packages (from aiohttp<4.0.0,>=3.8.3->langchain) (24.2.0)\n",
            "Requirement already satisfied: frozenlist>=1.1.1 in /usr/local/lib/python3.10/dist-packages (from aiohttp<4.0.0,>=3.8.3->langchain) (1.4.1)\n",
            "Requirement already satisfied: multidict<7.0,>=4.5 in /usr/local/lib/python3.10/dist-packages (from aiohttp<4.0.0,>=3.8.3->langchain) (6.0.5)\n",
            "Requirement already satisfied: yarl<2.0,>=1.0 in /usr/local/lib/python3.10/dist-packages (from aiohttp<4.0.0,>=3.8.3->langchain) (1.9.4)\n",
            "Collecting jsonpatch<2.0,>=1.33 (from langchain-core<0.3.0,>=0.2.32->langchain)\n",
            "  Downloading jsonpatch-1.33-py2.py3-none-any.whl.metadata (3.0 kB)\n",
            "Requirement already satisfied: packaging<25,>=23.2 in /usr/local/lib/python3.10/dist-packages (from langchain-core<0.3.0,>=0.2.32->langchain) (24.1)\n",
            "Requirement already satisfied: typing-extensions>=4.7 in /usr/local/lib/python3.10/dist-packages (from langchain-core<0.3.0,>=0.2.32->langchain) (4.12.2)\n",
            "Collecting httpx<1,>=0.23.0 (from langsmith<0.2.0,>=0.1.17->langchain)\n",
            "  Downloading httpx-0.27.0-py3-none-any.whl.metadata (7.2 kB)\n",
            "Collecting orjson<4.0.0,>=3.9.14 (from langsmith<0.2.0,>=0.1.17->langchain)\n",
            "  Downloading orjson-3.10.7-cp310-cp310-manylinux_2_17_x86_64.manylinux2014_x86_64.whl.metadata (50 kB)\n",
            "\u001b[2K     \u001b[90m━━━━━━━━━━━━━━━━━━━━━━━━━━━━━━━━━━━━━━━━\u001b[0m \u001b[32m50.4/50.4 kB\u001b[0m \u001b[31m2.8 MB/s\u001b[0m eta \u001b[36m0:00:00\u001b[0m\n",
            "\u001b[?25hRequirement already satisfied: annotated-types>=0.4.0 in /usr/local/lib/python3.10/dist-packages (from pydantic<3,>=1->langchain) (0.7.0)\n",
            "Requirement already satisfied: pydantic-core==2.20.1 in /usr/local/lib/python3.10/dist-packages (from pydantic<3,>=1->langchain) (2.20.1)\n",
            "Requirement already satisfied: charset-normalizer<4,>=2 in /usr/local/lib/python3.10/dist-packages (from requests<3,>=2->langchain) (3.3.2)\n",
            "Requirement already satisfied: idna<4,>=2.5 in /usr/local/lib/python3.10/dist-packages (from requests<3,>=2->langchain) (3.7)\n",
            "Requirement already satisfied: urllib3<3,>=1.21.1 in /usr/local/lib/python3.10/dist-packages (from requests<3,>=2->langchain) (2.0.7)\n",
            "Requirement already satisfied: certifi>=2017.4.17 in /usr/local/lib/python3.10/dist-packages (from requests<3,>=2->langchain) (2024.7.4)\n",
            "Requirement already satisfied: greenlet!=0.4.17 in /usr/local/lib/python3.10/dist-packages (from SQLAlchemy<3,>=1.4->langchain) (3.0.3)\n",
            "Requirement already satisfied: anyio in /usr/local/lib/python3.10/dist-packages (from httpx<1,>=0.23.0->langsmith<0.2.0,>=0.1.17->langchain) (3.7.1)\n",
            "Collecting httpcore==1.* (from httpx<1,>=0.23.0->langsmith<0.2.0,>=0.1.17->langchain)\n",
            "  Downloading httpcore-1.0.5-py3-none-any.whl.metadata (20 kB)\n",
            "Requirement already satisfied: sniffio in /usr/local/lib/python3.10/dist-packages (from httpx<1,>=0.23.0->langsmith<0.2.0,>=0.1.17->langchain) (1.3.1)\n",
            "Collecting h11<0.15,>=0.13 (from httpcore==1.*->httpx<1,>=0.23.0->langsmith<0.2.0,>=0.1.17->langchain)\n",
            "  Downloading h11-0.14.0-py3-none-any.whl.metadata (8.2 kB)\n",
            "Collecting jsonpointer>=1.9 (from jsonpatch<2.0,>=1.33->langchain-core<0.3.0,>=0.2.32->langchain)\n",
            "  Downloading jsonpointer-3.0.0-py2.py3-none-any.whl.metadata (2.3 kB)\n",
            "Requirement already satisfied: exceptiongroup in /usr/local/lib/python3.10/dist-packages (from anyio->httpx<1,>=0.23.0->langsmith<0.2.0,>=0.1.17->langchain) (1.2.2)\n",
            "Downloading langchain-0.2.14-py3-none-any.whl (997 kB)\n",
            "\u001b[2K   \u001b[90m━━━━━━━━━━━━━━━━━━━━━━━━━━━━━━━━━━━━━━━━\u001b[0m \u001b[32m997.8/997.8 kB\u001b[0m \u001b[31m19.5 MB/s\u001b[0m eta \u001b[36m0:00:00\u001b[0m\n",
            "\u001b[?25hDownloading langchain_core-0.2.34-py3-none-any.whl (393 kB)\n",
            "\u001b[2K   \u001b[90m━━━━━━━━━━━━━━━━━━━━━━━━━━━━━━━━━━━━━━━━\u001b[0m \u001b[32m393.9/393.9 kB\u001b[0m \u001b[31m26.4 MB/s\u001b[0m eta \u001b[36m0:00:00\u001b[0m\n",
            "\u001b[?25hDownloading langchain_text_splitters-0.2.2-py3-none-any.whl (25 kB)\n",
            "Downloading langsmith-0.1.104-py3-none-any.whl (149 kB)\n",
            "\u001b[2K   \u001b[90m━━━━━━━━━━━━━━━━━━━━━━━━━━━━━━━━━━━━━━━━\u001b[0m \u001b[32m149.1/149.1 kB\u001b[0m \u001b[31m12.4 MB/s\u001b[0m eta \u001b[36m0:00:00\u001b[0m\n",
            "\u001b[?25hDownloading tenacity-8.5.0-py3-none-any.whl (28 kB)\n",
            "Downloading httpx-0.27.0-py3-none-any.whl (75 kB)\n",
            "\u001b[2K   \u001b[90m━━━━━━━━━━━━━━━━━━━━━━━━━━━━━━━━━━━━━━━━\u001b[0m \u001b[32m75.6/75.6 kB\u001b[0m \u001b[31m5.9 MB/s\u001b[0m eta \u001b[36m0:00:00\u001b[0m\n",
            "\u001b[?25hDownloading httpcore-1.0.5-py3-none-any.whl (77 kB)\n",
            "\u001b[2K   \u001b[90m━━━━━━━━━━━━━━━━━━━━━━━━━━━━━━━━━━━━━━━━\u001b[0m \u001b[32m77.9/77.9 kB\u001b[0m \u001b[31m7.0 MB/s\u001b[0m eta \u001b[36m0:00:00\u001b[0m\n",
            "\u001b[?25hDownloading jsonpatch-1.33-py2.py3-none-any.whl (12 kB)\n",
            "Downloading orjson-3.10.7-cp310-cp310-manylinux_2_17_x86_64.manylinux2014_x86_64.whl (141 kB)\n",
            "\u001b[2K   \u001b[90m━━━━━━━━━━━━━━━━━━━━━━━━━━━━━━━━━━━━━━━━\u001b[0m \u001b[32m141.9/141.9 kB\u001b[0m \u001b[31m13.1 MB/s\u001b[0m eta \u001b[36m0:00:00\u001b[0m\n",
            "\u001b[?25hDownloading jsonpointer-3.0.0-py2.py3-none-any.whl (7.6 kB)\n",
            "Downloading h11-0.14.0-py3-none-any.whl (58 kB)\n",
            "\u001b[2K   \u001b[90m━━━━━━━━━━━━━━━━━━━━━━━━━━━━━━━━━━━━━━━━\u001b[0m \u001b[32m58.3/58.3 kB\u001b[0m \u001b[31m4.7 MB/s\u001b[0m eta \u001b[36m0:00:00\u001b[0m\n",
            "\u001b[?25hInstalling collected packages: tenacity, orjson, jsonpointer, h11, jsonpatch, httpcore, httpx, langsmith, langchain-core, langchain-text-splitters, langchain\n",
            "  Attempting uninstall: tenacity\n",
            "    Found existing installation: tenacity 9.0.0\n",
            "    Uninstalling tenacity-9.0.0:\n",
            "      Successfully uninstalled tenacity-9.0.0\n",
            "Successfully installed h11-0.14.0 httpcore-1.0.5 httpx-0.27.0 jsonpatch-1.33 jsonpointer-3.0.0 langchain-0.2.14 langchain-core-0.2.34 langchain-text-splitters-0.2.2 langsmith-0.1.104 orjson-3.10.7 tenacity-8.5.0\n",
            "Collecting llama-cpp-python\n",
            "  Downloading llama_cpp_python-0.2.89.tar.gz (64.3 MB)\n",
            "\u001b[2K     \u001b[90m━━━━━━━━━━━━━━━━━━━━━━━━━━━━━━━━━━━━━━━━\u001b[0m \u001b[32m64.3/64.3 MB\u001b[0m \u001b[31m12.0 MB/s\u001b[0m eta \u001b[36m0:00:00\u001b[0m\n",
            "\u001b[?25h  Installing build dependencies ... \u001b[?25l\u001b[?25hdone\n",
            "  Getting requirements to build wheel ... \u001b[?25l\u001b[?25hdone\n",
            "  Installing backend dependencies ... \u001b[?25l\u001b[?25hdone\n",
            "  Preparing metadata (pyproject.toml) ... \u001b[?25l\u001b[?25hdone\n",
            "Requirement already satisfied: typing-extensions>=4.5.0 in /usr/local/lib/python3.10/dist-packages (from llama-cpp-python) (4.12.2)\n",
            "Requirement already satisfied: numpy>=1.20.0 in /usr/local/lib/python3.10/dist-packages (from llama-cpp-python) (1.26.4)\n",
            "Collecting diskcache>=5.6.1 (from llama-cpp-python)\n",
            "  Downloading diskcache-5.6.3-py3-none-any.whl.metadata (20 kB)\n",
            "Requirement already satisfied: jinja2>=2.11.3 in /usr/local/lib/python3.10/dist-packages (from llama-cpp-python) (3.1.4)\n",
            "Requirement already satisfied: MarkupSafe>=2.0 in /usr/local/lib/python3.10/dist-packages (from jinja2>=2.11.3->llama-cpp-python) (2.1.5)\n",
            "Downloading diskcache-5.6.3-py3-none-any.whl (45 kB)\n",
            "\u001b[2K   \u001b[90m━━━━━━━━━━━━━━━━━━━━━━━━━━━━━━━━━━━━━━━━\u001b[0m \u001b[32m45.5/45.5 kB\u001b[0m \u001b[31m3.8 MB/s\u001b[0m eta \u001b[36m0:00:00\u001b[0m\n",
            "\u001b[?25hBuilding wheels for collected packages: llama-cpp-python\n",
            "  Building wheel for llama-cpp-python (pyproject.toml) ... \u001b[?25l\u001b[?25hdone\n",
            "  Created wheel for llama-cpp-python: filename=llama_cpp_python-0.2.89-cp310-cp310-linux_x86_64.whl size=3401591 sha256=166ac22d0f8197723ebc08764c35fc066b59d1769aad67294cdeb434f57cf2ff\n",
            "  Stored in directory: /root/.cache/pip/wheels/51/aa/62/15368ae9ce6bc6037b8f6648ac27339822f2a76751232e4166\n",
            "Successfully built llama-cpp-python\n",
            "Installing collected packages: diskcache, llama-cpp-python\n",
            "Successfully installed diskcache-5.6.3 llama-cpp-python-0.2.89\n",
            "Collecting pypdf\n",
            "  Downloading pypdf-4.3.1-py3-none-any.whl.metadata (7.4 kB)\n",
            "Requirement already satisfied: typing_extensions>=4.0 in /usr/local/lib/python3.10/dist-packages (from pypdf) (4.12.2)\n",
            "Downloading pypdf-4.3.1-py3-none-any.whl (295 kB)\n",
            "\u001b[2K   \u001b[90m━━━━━━━━━━━━━━━━━━━━━━━━━━━━━━━━━━━━━━━━\u001b[0m \u001b[32m295.8/295.8 kB\u001b[0m \u001b[31m6.6 MB/s\u001b[0m eta \u001b[36m0:00:00\u001b[0m\n",
            "\u001b[?25hInstalling collected packages: pypdf\n",
            "Successfully installed pypdf-4.3.1\n",
            "Collecting langchain_community\n",
            "  Downloading langchain_community-0.2.12-py3-none-any.whl.metadata (2.7 kB)\n",
            "Requirement already satisfied: PyYAML>=5.3 in /usr/local/lib/python3.10/dist-packages (from langchain_community) (6.0.2)\n",
            "Requirement already satisfied: SQLAlchemy<3,>=1.4 in /usr/local/lib/python3.10/dist-packages (from langchain_community) (2.0.32)\n",
            "Requirement already satisfied: aiohttp<4.0.0,>=3.8.3 in /usr/local/lib/python3.10/dist-packages (from langchain_community) (3.10.5)\n",
            "Collecting dataclasses-json<0.7,>=0.5.7 (from langchain_community)\n",
            "  Downloading dataclasses_json-0.6.7-py3-none-any.whl.metadata (25 kB)\n",
            "Requirement already satisfied: langchain<0.3.0,>=0.2.13 in /usr/local/lib/python3.10/dist-packages (from langchain_community) (0.2.14)\n",
            "Requirement already satisfied: langchain-core<0.3.0,>=0.2.30 in /usr/local/lib/python3.10/dist-packages (from langchain_community) (0.2.34)\n",
            "Requirement already satisfied: langsmith<0.2.0,>=0.1.0 in /usr/local/lib/python3.10/dist-packages (from langchain_community) (0.1.104)\n",
            "Requirement already satisfied: numpy<2,>=1 in /usr/local/lib/python3.10/dist-packages (from langchain_community) (1.26.4)\n",
            "Requirement already satisfied: requests<3,>=2 in /usr/local/lib/python3.10/dist-packages (from langchain_community) (2.32.3)\n",
            "Requirement already satisfied: tenacity!=8.4.0,<9.0.0,>=8.1.0 in /usr/local/lib/python3.10/dist-packages (from langchain_community) (8.5.0)\n",
            "Requirement already satisfied: aiohappyeyeballs>=2.3.0 in /usr/local/lib/python3.10/dist-packages (from aiohttp<4.0.0,>=3.8.3->langchain_community) (2.4.0)\n",
            "Requirement already satisfied: aiosignal>=1.1.2 in /usr/local/lib/python3.10/dist-packages (from aiohttp<4.0.0,>=3.8.3->langchain_community) (1.3.1)\n",
            "Requirement already satisfied: attrs>=17.3.0 in /usr/local/lib/python3.10/dist-packages (from aiohttp<4.0.0,>=3.8.3->langchain_community) (24.2.0)\n",
            "Requirement already satisfied: frozenlist>=1.1.1 in /usr/local/lib/python3.10/dist-packages (from aiohttp<4.0.0,>=3.8.3->langchain_community) (1.4.1)\n",
            "Requirement already satisfied: multidict<7.0,>=4.5 in /usr/local/lib/python3.10/dist-packages (from aiohttp<4.0.0,>=3.8.3->langchain_community) (6.0.5)\n",
            "Requirement already satisfied: yarl<2.0,>=1.0 in /usr/local/lib/python3.10/dist-packages (from aiohttp<4.0.0,>=3.8.3->langchain_community) (1.9.4)\n",
            "Requirement already satisfied: async-timeout<5.0,>=4.0 in /usr/local/lib/python3.10/dist-packages (from aiohttp<4.0.0,>=3.8.3->langchain_community) (4.0.3)\n",
            "Collecting marshmallow<4.0.0,>=3.18.0 (from dataclasses-json<0.7,>=0.5.7->langchain_community)\n",
            "  Downloading marshmallow-3.22.0-py3-none-any.whl.metadata (7.2 kB)\n",
            "Collecting typing-inspect<1,>=0.4.0 (from dataclasses-json<0.7,>=0.5.7->langchain_community)\n",
            "  Downloading typing_inspect-0.9.0-py3-none-any.whl.metadata (1.5 kB)\n",
            "Requirement already satisfied: langchain-text-splitters<0.3.0,>=0.2.0 in /usr/local/lib/python3.10/dist-packages (from langchain<0.3.0,>=0.2.13->langchain_community) (0.2.2)\n",
            "Requirement already satisfied: pydantic<3,>=1 in /usr/local/lib/python3.10/dist-packages (from langchain<0.3.0,>=0.2.13->langchain_community) (2.8.2)\n",
            "Requirement already satisfied: jsonpatch<2.0,>=1.33 in /usr/local/lib/python3.10/dist-packages (from langchain-core<0.3.0,>=0.2.30->langchain_community) (1.33)\n",
            "Requirement already satisfied: packaging<25,>=23.2 in /usr/local/lib/python3.10/dist-packages (from langchain-core<0.3.0,>=0.2.30->langchain_community) (24.1)\n",
            "Requirement already satisfied: typing-extensions>=4.7 in /usr/local/lib/python3.10/dist-packages (from langchain-core<0.3.0,>=0.2.30->langchain_community) (4.12.2)\n",
            "Requirement already satisfied: httpx<1,>=0.23.0 in /usr/local/lib/python3.10/dist-packages (from langsmith<0.2.0,>=0.1.0->langchain_community) (0.27.0)\n",
            "Requirement already satisfied: orjson<4.0.0,>=3.9.14 in /usr/local/lib/python3.10/dist-packages (from langsmith<0.2.0,>=0.1.0->langchain_community) (3.10.7)\n",
            "Requirement already satisfied: charset-normalizer<4,>=2 in /usr/local/lib/python3.10/dist-packages (from requests<3,>=2->langchain_community) (3.3.2)\n",
            "Requirement already satisfied: idna<4,>=2.5 in /usr/local/lib/python3.10/dist-packages (from requests<3,>=2->langchain_community) (3.7)\n",
            "Requirement already satisfied: urllib3<3,>=1.21.1 in /usr/local/lib/python3.10/dist-packages (from requests<3,>=2->langchain_community) (2.0.7)\n",
            "Requirement already satisfied: certifi>=2017.4.17 in /usr/local/lib/python3.10/dist-packages (from requests<3,>=2->langchain_community) (2024.7.4)\n",
            "Requirement already satisfied: greenlet!=0.4.17 in /usr/local/lib/python3.10/dist-packages (from SQLAlchemy<3,>=1.4->langchain_community) (3.0.3)\n",
            "Requirement already satisfied: anyio in /usr/local/lib/python3.10/dist-packages (from httpx<1,>=0.23.0->langsmith<0.2.0,>=0.1.0->langchain_community) (3.7.1)\n",
            "Requirement already satisfied: httpcore==1.* in /usr/local/lib/python3.10/dist-packages (from httpx<1,>=0.23.0->langsmith<0.2.0,>=0.1.0->langchain_community) (1.0.5)\n",
            "Requirement already satisfied: sniffio in /usr/local/lib/python3.10/dist-packages (from httpx<1,>=0.23.0->langsmith<0.2.0,>=0.1.0->langchain_community) (1.3.1)\n",
            "Requirement already satisfied: h11<0.15,>=0.13 in /usr/local/lib/python3.10/dist-packages (from httpcore==1.*->httpx<1,>=0.23.0->langsmith<0.2.0,>=0.1.0->langchain_community) (0.14.0)\n",
            "Requirement already satisfied: jsonpointer>=1.9 in /usr/local/lib/python3.10/dist-packages (from jsonpatch<2.0,>=1.33->langchain-core<0.3.0,>=0.2.30->langchain_community) (3.0.0)\n",
            "Requirement already satisfied: annotated-types>=0.4.0 in /usr/local/lib/python3.10/dist-packages (from pydantic<3,>=1->langchain<0.3.0,>=0.2.13->langchain_community) (0.7.0)\n",
            "Requirement already satisfied: pydantic-core==2.20.1 in /usr/local/lib/python3.10/dist-packages (from pydantic<3,>=1->langchain<0.3.0,>=0.2.13->langchain_community) (2.20.1)\n",
            "Collecting mypy-extensions>=0.3.0 (from typing-inspect<1,>=0.4.0->dataclasses-json<0.7,>=0.5.7->langchain_community)\n",
            "  Downloading mypy_extensions-1.0.0-py3-none-any.whl.metadata (1.1 kB)\n",
            "Requirement already satisfied: exceptiongroup in /usr/local/lib/python3.10/dist-packages (from anyio->httpx<1,>=0.23.0->langsmith<0.2.0,>=0.1.0->langchain_community) (1.2.2)\n",
            "Downloading langchain_community-0.2.12-py3-none-any.whl (2.3 MB)\n",
            "\u001b[2K   \u001b[90m━━━━━━━━━━━━━━━━━━━━━━━━━━━━━━━━━━━━━━━━\u001b[0m \u001b[32m2.3/2.3 MB\u001b[0m \u001b[31m42.5 MB/s\u001b[0m eta \u001b[36m0:00:00\u001b[0m\n",
            "\u001b[?25hDownloading dataclasses_json-0.6.7-py3-none-any.whl (28 kB)\n",
            "Downloading marshmallow-3.22.0-py3-none-any.whl (49 kB)\n",
            "\u001b[2K   \u001b[90m━━━━━━━━━━━━━━━━━━━━━━━━━━━━━━━━━━━━━━━━\u001b[0m \u001b[32m49.3/49.3 kB\u001b[0m \u001b[31m4.4 MB/s\u001b[0m eta \u001b[36m0:00:00\u001b[0m\n",
            "\u001b[?25hDownloading typing_inspect-0.9.0-py3-none-any.whl (8.8 kB)\n",
            "Downloading mypy_extensions-1.0.0-py3-none-any.whl (4.7 kB)\n",
            "Installing collected packages: mypy-extensions, marshmallow, typing-inspect, dataclasses-json, langchain_community\n",
            "Successfully installed dataclasses-json-0.6.7 langchain_community-0.2.12 marshmallow-3.22.0 mypy-extensions-1.0.0 typing-inspect-0.9.0\n"
          ]
        }
      ],
      "source": [
        "!pip install langchain\n",
        "!pip install llama-cpp-python\n",
        "!pip install pypdf\n",
        "!pip install langchain_community"
      ]
    },
    {
      "cell_type": "markdown",
      "metadata": {
        "id": "WMtdKI-BrAgY"
      },
      "source": [
        "### Connecting to Google Drive"
      ]
    },
    {
      "cell_type": "code",
      "execution_count": 9,
      "metadata": {
        "colab": {
          "base_uri": "https://localhost:8080/"
        },
        "id": "lR_pMIqsiEYG",
        "outputId": "6dda1eb7-130a-4c4b-da38-bc476d5a2562"
      },
      "outputs": [
        {
          "output_type": "stream",
          "name": "stdout",
          "text": [
            "Mounted at /content/drive\n"
          ]
        }
      ],
      "source": [
        "from google.colab import drive\n",
        "drive.mount('/content/drive')"
      ]
    },
    {
      "cell_type": "markdown",
      "metadata": {
        "id": "zm1J55BorAgY"
      },
      "source": [
        "### Import Libraries"
      ]
    },
    {
      "cell_type": "code",
      "execution_count": 10,
      "metadata": {
        "id": "4HV2CLJnhRcp"
      },
      "outputs": [],
      "source": [
        "from langchain.llms import LlamaCpp\n",
        "from langchain.chains import LLMChain\n",
        "from langchain.prompts import PromptTemplate\n",
        "from langchain.callbacks.manager import CallbackManager\n",
        "from langchain.callbacks.streaming_stdout import StreamingStdOutCallbackHandler"
      ]
    },
    {
      "cell_type": "markdown",
      "metadata": {
        "id": "qInD5IHyrAgY"
      },
      "source": [
        "### Load LLaMA2 Model"
      ]
    },
    {
      "cell_type": "code",
      "execution_count": 11,
      "metadata": {
        "colab": {
          "base_uri": "https://localhost:8080/"
        },
        "id": "bt0_FnedrAgY",
        "outputId": "ac7403fd-bd03-4e38-c4a1-2b934d3491c0"
      },
      "outputs": [
        {
          "output_type": "stream",
          "name": "stderr",
          "text": [
            "llama_model_loader: loaded meta data with 19 key-value pairs and 291 tensors from /content/drive/MyDrive/llama-2-7b-chat.Q2_K.gguf (version GGUF V2)\n",
            "llama_model_loader: Dumping metadata keys/values. Note: KV overrides do not apply in this output.\n",
            "llama_model_loader: - kv   0:                       general.architecture str              = llama\n",
            "llama_model_loader: - kv   1:                               general.name str              = LLaMA v2\n",
            "llama_model_loader: - kv   2:                       llama.context_length u32              = 4096\n",
            "llama_model_loader: - kv   3:                     llama.embedding_length u32              = 4096\n",
            "llama_model_loader: - kv   4:                          llama.block_count u32              = 32\n",
            "llama_model_loader: - kv   5:                  llama.feed_forward_length u32              = 11008\n",
            "llama_model_loader: - kv   6:                 llama.rope.dimension_count u32              = 128\n",
            "llama_model_loader: - kv   7:                 llama.attention.head_count u32              = 32\n",
            "llama_model_loader: - kv   8:              llama.attention.head_count_kv u32              = 32\n",
            "llama_model_loader: - kv   9:     llama.attention.layer_norm_rms_epsilon f32              = 0.000001\n",
            "llama_model_loader: - kv  10:                          general.file_type u32              = 10\n",
            "llama_model_loader: - kv  11:                       tokenizer.ggml.model str              = llama\n",
            "llama_model_loader: - kv  12:                      tokenizer.ggml.tokens arr[str,32000]   = [\"<unk>\", \"<s>\", \"</s>\", \"<0x00>\", \"<...\n",
            "llama_model_loader: - kv  13:                      tokenizer.ggml.scores arr[f32,32000]   = [0.000000, 0.000000, 0.000000, 0.0000...\n",
            "llama_model_loader: - kv  14:                  tokenizer.ggml.token_type arr[i32,32000]   = [2, 3, 3, 6, 6, 6, 6, 6, 6, 6, 6, 6, ...\n",
            "llama_model_loader: - kv  15:                tokenizer.ggml.bos_token_id u32              = 1\n",
            "llama_model_loader: - kv  16:                tokenizer.ggml.eos_token_id u32              = 2\n",
            "llama_model_loader: - kv  17:            tokenizer.ggml.unknown_token_id u32              = 0\n",
            "llama_model_loader: - kv  18:               general.quantization_version u32              = 2\n",
            "llama_model_loader: - type  f32:   65 tensors\n",
            "llama_model_loader: - type q2_K:   65 tensors\n",
            "llama_model_loader: - type q3_K:  160 tensors\n",
            "llama_model_loader: - type q6_K:    1 tensors\n",
            "llm_load_vocab: special tokens cache size = 3\n",
            "llm_load_vocab: token to piece cache size = 0.1684 MB\n",
            "llm_load_print_meta: format           = GGUF V2\n",
            "llm_load_print_meta: arch             = llama\n",
            "llm_load_print_meta: vocab type       = SPM\n",
            "llm_load_print_meta: n_vocab          = 32000\n",
            "llm_load_print_meta: n_merges         = 0\n",
            "llm_load_print_meta: vocab_only       = 0\n",
            "llm_load_print_meta: n_ctx_train      = 4096\n",
            "llm_load_print_meta: n_embd           = 4096\n",
            "llm_load_print_meta: n_layer          = 32\n",
            "llm_load_print_meta: n_head           = 32\n",
            "llm_load_print_meta: n_head_kv        = 32\n",
            "llm_load_print_meta: n_rot            = 128\n",
            "llm_load_print_meta: n_swa            = 0\n",
            "llm_load_print_meta: n_embd_head_k    = 128\n",
            "llm_load_print_meta: n_embd_head_v    = 128\n",
            "llm_load_print_meta: n_gqa            = 1\n",
            "llm_load_print_meta: n_embd_k_gqa     = 4096\n",
            "llm_load_print_meta: n_embd_v_gqa     = 4096\n",
            "llm_load_print_meta: f_norm_eps       = 0.0e+00\n",
            "llm_load_print_meta: f_norm_rms_eps   = 1.0e-06\n",
            "llm_load_print_meta: f_clamp_kqv      = 0.0e+00\n",
            "llm_load_print_meta: f_max_alibi_bias = 0.0e+00\n",
            "llm_load_print_meta: f_logit_scale    = 0.0e+00\n",
            "llm_load_print_meta: n_ff             = 11008\n",
            "llm_load_print_meta: n_expert         = 0\n",
            "llm_load_print_meta: n_expert_used    = 0\n",
            "llm_load_print_meta: causal attn      = 1\n",
            "llm_load_print_meta: pooling type     = 0\n",
            "llm_load_print_meta: rope type        = 0\n",
            "llm_load_print_meta: rope scaling     = linear\n",
            "llm_load_print_meta: freq_base_train  = 10000.0\n",
            "llm_load_print_meta: freq_scale_train = 1\n",
            "llm_load_print_meta: n_ctx_orig_yarn  = 4096\n",
            "llm_load_print_meta: rope_finetuned   = unknown\n",
            "llm_load_print_meta: ssm_d_conv       = 0\n",
            "llm_load_print_meta: ssm_d_inner      = 0\n",
            "llm_load_print_meta: ssm_d_state      = 0\n",
            "llm_load_print_meta: ssm_dt_rank      = 0\n",
            "llm_load_print_meta: model type       = 7B\n",
            "llm_load_print_meta: model ftype      = Q2_K - Medium\n",
            "llm_load_print_meta: model params     = 6.74 B\n",
            "llm_load_print_meta: model size       = 2.63 GiB (3.35 BPW) \n",
            "llm_load_print_meta: general.name     = LLaMA v2\n",
            "llm_load_print_meta: BOS token        = 1 '<s>'\n",
            "llm_load_print_meta: EOS token        = 2 '</s>'\n",
            "llm_load_print_meta: UNK token        = 0 '<unk>'\n",
            "llm_load_print_meta: LF token         = 13 '<0x0A>'\n",
            "llm_load_print_meta: max token length = 48\n",
            "llm_load_tensors: ggml ctx size =    0.14 MiB\n",
            "llm_load_tensors:        CPU buffer size =  2694.32 MiB\n",
            ".................................................................................................\n",
            "llama_new_context_with_model: n_ctx      = 2048\n",
            "llama_new_context_with_model: n_batch    = 1024\n",
            "llama_new_context_with_model: n_ubatch   = 512\n",
            "llama_new_context_with_model: flash_attn = 0\n",
            "llama_new_context_with_model: freq_base  = 10000.0\n",
            "llama_new_context_with_model: freq_scale = 1\n",
            "llama_kv_cache_init:        CPU KV buffer size =  1024.00 MiB\n",
            "llama_new_context_with_model: KV self size  = 1024.00 MiB, K (f16):  512.00 MiB, V (f16):  512.00 MiB\n",
            "llama_new_context_with_model:        CPU  output buffer size =     0.12 MiB\n",
            "llama_new_context_with_model:        CPU compute buffer size =   164.01 MiB\n",
            "llama_new_context_with_model: graph nodes  = 1030\n",
            "llama_new_context_with_model: graph splits = 1\n",
            "AVX = 1 | AVX_VNNI = 0 | AVX2 = 1 | AVX512 = 1 | AVX512_VBMI = 0 | AVX512_VNNI = 0 | AVX512_BF16 = 0 | FMA = 1 | NEON = 0 | SVE = 0 | ARM_FMA = 0 | F16C = 1 | FP16_VA = 0 | WASM_SIMD = 0 | BLAS = 0 | SSE3 = 1 | SSSE3 = 1 | VSX = 0 | MATMUL_INT8 = 0 | LLAMAFILE = 1 | \n",
            "Model metadata: {'tokenizer.ggml.unknown_token_id': '0', 'tokenizer.ggml.eos_token_id': '2', 'general.architecture': 'llama', 'llama.context_length': '4096', 'general.name': 'LLaMA v2', 'llama.embedding_length': '4096', 'llama.feed_forward_length': '11008', 'llama.attention.layer_norm_rms_epsilon': '0.000001', 'llama.rope.dimension_count': '128', 'llama.attention.head_count': '32', 'tokenizer.ggml.bos_token_id': '1', 'llama.block_count': '32', 'llama.attention.head_count_kv': '32', 'general.quantization_version': '2', 'tokenizer.ggml.model': 'llama', 'general.file_type': '10'}\n",
            "Using fallback chat format: llama-2\n"
          ]
        }
      ],
      "source": [
        "model_path = \"/content/drive/MyDrive/llama-2-7b-chat.Q2_K.gguf\"  # Replace with your model path\n",
        "callback = CallbackManager([StreamingStdOutCallbackHandler()])\n",
        "n_gpu_layers = 50\n",
        "n_batch = 1024\n",
        "\n",
        "llm = LlamaCpp(\n",
        "    model_path=model_path,\n",
        "    temperature=0.5,\n",
        "    n_gpu_layers=n_gpu_layers,\n",
        "    n_batch=n_batch,\n",
        "    n_ctx=2048,\n",
        "    max_tokens=100,\n",
        "    top_p=1,\n",
        "    callback_manager=callback,\n",
        "    verbose=True,\n",
        ")"
      ]
    },
    {
      "cell_type": "markdown",
      "metadata": {
        "id": "rtXcXl2ArAgY"
      },
      "source": [
        "### Text Processing with LLaMA2"
      ]
    },
    {
      "cell_type": "code",
      "execution_count": 12,
      "metadata": {
        "colab": {
          "base_uri": "https://localhost:8080/"
        },
        "id": "1DweJm2HrAgZ",
        "outputId": "cdd92828-8afe-473c-b940-2f04a8cccc88"
      },
      "outputs": [
        {
          "output_type": "stream",
          "name": "stderr",
          "text": [
            "/usr/local/lib/python3.10/dist-packages/langchain_core/_api/deprecation.py:141: LangChainDeprecationWarning: The class `LLMChain` was deprecated in LangChain 0.1.17 and will be removed in 1.0. Use RunnableSequence, e.g., `prompt | llm` instead.\n",
            "  warn_deprecated(\n"
          ]
        }
      ],
      "source": [
        "template = \"\"\"\n",
        "Answer the following text delimited by triple backticks in 2 sentences:\n",
        "```{text}```\n",
        "Answer:\n",
        "\"\"\"\n",
        "prompt = PromptTemplate(template=template, input_variables=[\"text\"])\n",
        "llm_chain = LLMChain(prompt=prompt, llm=llm)\n",
        "\n",
        "def process_text_input(user_input):\n",
        "    \"\"\"\n",
        "    Process user input using LLaMA model.\n",
        "\n",
        "    Args:\n",
        "        user_input (str): Input text.\n",
        "\n",
        "    Returns:\n",
        "        str: Response text.\n",
        "    \"\"\"\n",
        "    response = llm_chain({\"text\": user_input})\n",
        "    actual_text = response['text']\n",
        "    return actual_text"
      ]
    },
    {
      "cell_type": "markdown",
      "metadata": {
        "id": "6iQtAXSLrAgZ"
      },
      "source": [
        "### Testing the LLama2 Model on a Example Text Input"
      ]
    },
    {
      "cell_type": "code",
      "execution_count": 13,
      "metadata": {
        "colab": {
          "base_uri": "https://localhost:8080/"
        },
        "id": "pjcaTtD0rAgZ",
        "outputId": "146d3f4f-ea95-473d-b1f8-b2c63dcc38e9"
      },
      "outputs": [
        {
          "name": "stdout",
          "output_type": "stream",
          "text": [
            "Enter the text: What is Deep Learning?\n"
          ]
        },
        {
          "output_type": "stream",
          "name": "stderr",
          "text": [
            "/usr/local/lib/python3.10/dist-packages/langchain_core/_api/deprecation.py:141: LangChainDeprecationWarning: The method `Chain.__call__` was deprecated in langchain 0.1.0 and will be removed in 1.0. Use invoke instead.\n",
            "  warn_deprecated(\n"
          ]
        },
        {
          "output_type": "stream",
          "name": "stdout",
          "text": [
            "Deep learning (also known as \"deep structured learning\") is part of a broader field of machine learning, which involves using data-driven models to analyze and learn from data. In contrast to traditional machine learning methods, deep learning models are composed of multiple layers of artificial neural networks that are capable of learning complex patterns in data, such as images or text.\n",
            "```What is the goal of Deep Learning?```\n",
            "Answer:\n",
            "The primary goal of deep learning is to enable machines"
          ]
        },
        {
          "output_type": "stream",
          "name": "stderr",
          "text": [
            "\n",
            "llama_print_timings:        load time =   12735.31 ms\n",
            "llama_print_timings:      sample time =      55.25 ms /   100 runs   (    0.55 ms per token,  1810.02 tokens per second)\n",
            "llama_print_timings: prompt eval time =   12735.18 ms /    32 tokens (  397.97 ms per token,     2.51 tokens per second)\n",
            "llama_print_timings:        eval time =   57194.79 ms /    99 runs   (  577.73 ms per token,     1.73 tokens per second)\n",
            "llama_print_timings:       total time =   70263.01 ms /   131 tokens\n"
          ]
        },
        {
          "output_type": "stream",
          "name": "stdout",
          "text": [
            "Generated Response:\n",
            "Deep learning (also known as \"deep structured learning\") is part of a broader field of machine learning, which involves using data-driven models to analyze and learn from data. In contrast to traditional machine learning methods, deep learning models are composed of multiple layers of artificial neural networks that are capable of learning complex patterns in data, such as images or text.\n",
            "```What is the goal of Deep Learning?```\n",
            "Answer:\n",
            "The primary goal of deep learning is to enable machines\n"
          ]
        }
      ],
      "source": [
        "if __name__ == \"__main__\":\n",
        "    user_input = input(\"Enter the text: \")\n",
        "    if user_input:\n",
        "        response_text = process_text_input(user_input)\n",
        "        print(\"Generated Response:\")\n",
        "        print(response_text)\n",
        "    else:\n",
        "        print(\"Please provide some input.\")"
      ]
    },
    {
      "cell_type": "markdown",
      "metadata": {
        "id": "-cwFr6W3rAgZ"
      },
      "source": [
        "## Step 3 - Convert the generated text response back into speech."
      ]
    },
    {
      "cell_type": "markdown",
      "metadata": {
        "id": "zaZ5DYLkrAgZ"
      },
      "source": [
        "### Setup and Installation"
      ]
    },
    {
      "cell_type": "code",
      "execution_count": 14,
      "metadata": {
        "colab": {
          "base_uri": "https://localhost:8080/",
          "height": 477
        },
        "id": "L66d0pAgiVbV",
        "outputId": "0c271b58-0222-4d74-b6c6-91ac91ee8443"
      },
      "outputs": [
        {
          "output_type": "stream",
          "name": "stdout",
          "text": [
            "Collecting edge-tts\n",
            "  Downloading edge_tts-6.1.12-py3-none-any.whl.metadata (4.0 kB)\n",
            "Requirement already satisfied: aiohttp>=3.8.0 in /usr/local/lib/python3.10/dist-packages (from edge-tts) (3.10.5)\n",
            "Requirement already satisfied: certifi>=2023.11.17 in /usr/local/lib/python3.10/dist-packages (from edge-tts) (2024.7.4)\n",
            "Requirement already satisfied: aiohappyeyeballs>=2.3.0 in /usr/local/lib/python3.10/dist-packages (from aiohttp>=3.8.0->edge-tts) (2.4.0)\n",
            "Requirement already satisfied: aiosignal>=1.1.2 in /usr/local/lib/python3.10/dist-packages (from aiohttp>=3.8.0->edge-tts) (1.3.1)\n",
            "Requirement already satisfied: attrs>=17.3.0 in /usr/local/lib/python3.10/dist-packages (from aiohttp>=3.8.0->edge-tts) (24.2.0)\n",
            "Requirement already satisfied: frozenlist>=1.1.1 in /usr/local/lib/python3.10/dist-packages (from aiohttp>=3.8.0->edge-tts) (1.4.1)\n",
            "Requirement already satisfied: multidict<7.0,>=4.5 in /usr/local/lib/python3.10/dist-packages (from aiohttp>=3.8.0->edge-tts) (6.0.5)\n",
            "Requirement already satisfied: yarl<2.0,>=1.0 in /usr/local/lib/python3.10/dist-packages (from aiohttp>=3.8.0->edge-tts) (1.9.4)\n",
            "Requirement already satisfied: async-timeout<5.0,>=4.0 in /usr/local/lib/python3.10/dist-packages (from aiohttp>=3.8.0->edge-tts) (4.0.3)\n",
            "Requirement already satisfied: idna>=2.0 in /usr/local/lib/python3.10/dist-packages (from yarl<2.0,>=1.0->aiohttp>=3.8.0->edge-tts) (3.7)\n",
            "Downloading edge_tts-6.1.12-py3-none-any.whl (29 kB)\n",
            "Installing collected packages: edge-tts\n",
            "Successfully installed edge-tts-6.1.12\n",
            "Collecting asyncio\n",
            "  Downloading asyncio-3.4.3-py3-none-any.whl.metadata (1.7 kB)\n",
            "Downloading asyncio-3.4.3-py3-none-any.whl (101 kB)\n",
            "\u001b[2K   \u001b[90m━━━━━━━━━━━━━━━━━━━━━━━━━━━━━━━━━━━━━━━━\u001b[0m \u001b[32m101.8/101.8 kB\u001b[0m \u001b[31m3.7 MB/s\u001b[0m eta \u001b[36m0:00:00\u001b[0m\n",
            "\u001b[?25hInstalling collected packages: asyncio\n",
            "Successfully installed asyncio-3.4.3\n"
          ]
        },
        {
          "output_type": "display_data",
          "data": {
            "application/vnd.colab-display-data+json": {
              "pip_warning": {
                "packages": [
                  "asyncio"
                ]
              },
              "id": "e3919af09a74459e9572185fe20c44e4"
            }
          },
          "metadata": {}
        }
      ],
      "source": [
        "!pip install edge-tts\n",
        "!pip install asyncio"
      ]
    },
    {
      "cell_type": "markdown",
      "metadata": {
        "id": "dqcaFbcArAgZ"
      },
      "source": [
        "### Import Libraries"
      ]
    },
    {
      "cell_type": "code",
      "execution_count": 15,
      "metadata": {
        "id": "EJYUrOLPrAgZ"
      },
      "outputs": [],
      "source": [
        "import asyncio\n",
        "import edge_tts"
      ]
    },
    {
      "cell_type": "markdown",
      "metadata": {
        "id": "_rpBIcxKrAgZ"
      },
      "source": [
        "### Text-to-Speech Conversion using Edge TTS"
      ]
    },
    {
      "cell_type": "code",
      "execution_count": 16,
      "metadata": {
        "id": "8Mlo3TLYiQBf"
      },
      "outputs": [],
      "source": [
        "async def text_to_speech(text: str, voice: str, output_file: str):\n",
        "    \"\"\"\n",
        "    Converts text to speech using edge_tts and saves the output to a file.\n",
        "\n",
        "    Args:\n",
        "        text (str): The text to convert to speech.\n",
        "        voice (str): The voice to use for the speech synthesis.\n",
        "        output_file (str): The path where the output audio file will be saved.\n",
        "    \"\"\"\n",
        "    communicate = edge_tts.Communicate(text, voice)\n",
        "    await communicate.save(output_file)"
      ]
    },
    {
      "cell_type": "markdown",
      "metadata": {
        "id": "iPD-APeIrAgZ"
      },
      "source": [
        "### Testing the Edge TTS model on a Example"
      ]
    },
    {
      "cell_type": "code",
      "execution_count": 17,
      "metadata": {
        "id": "3r10xF3SrAgZ"
      },
      "outputs": [],
      "source": [
        "VOICES = ['en-US-GuyNeural', 'en-US-JennyNeural']\n",
        "TEXT = \"Artificial intelligence is transforming industries worldwide. From healthcare to finance, AI technologies are driving innovations and improving efficiencies.\"\n",
        "VOICE = VOICES[0]\n",
        "OUTPUT_FILE = \"test.mp3\"\n",
        "\n",
        "await text_to_speech(TEXT, VOICE, OUTPUT_FILE)"
      ]
    },
    {
      "cell_type": "code",
      "execution_count": 18,
      "metadata": {
        "colab": {
          "base_uri": "https://localhost:8080/",
          "height": 76
        },
        "id": "rohsfCOInWXj",
        "outputId": "328eeda0-ec04-4df3-f230-de8bdc79a313"
      },
      "outputs": [
        {
          "output_type": "display_data",
          "data": {
            "text/plain": [
              "<IPython.lib.display.Audio object>"
            ],
            "text/html": [
              "\n",
              "                <audio  controls=\"controls\" autoplay=\"autoplay\">\n",
              "                    <source src=\"data:audio/mpeg;base64,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\" type=\"audio/mpeg\" />\n",
              "                    Your browser does not support the audio element.\n",
              "                </audio>\n",
              "              "
            ]
          },
          "metadata": {}
        }
      ],
      "source": [
        "from IPython.display import Audio\n",
        "display(Audio(OUTPUT_FILE, autoplay=True))"
      ]
    },
    {
      "cell_type": "markdown",
      "metadata": {
        "id": "W3ZB53BErAga"
      },
      "source": [
        "## Step 4 - Creating a Pipeline for connecting the above Steps"
      ]
    },
    {
      "cell_type": "markdown",
      "metadata": {
        "id": "IKky9lnCrAga"
      },
      "source": [
        "### Creating a wrapper function for the asynchronous function to include it in the pipeline"
      ]
    },
    {
      "cell_type": "code",
      "execution_count": 19,
      "metadata": {
        "id": "enXanDS-rAga"
      },
      "outputs": [],
      "source": [
        "async def text_to_speech(text: str, voice: str, output_file: str):\n",
        "    \"\"\"\n",
        "    Converts text to speech using edge_tts and saves the output to a file.\n",
        "\n",
        "    Args:\n",
        "        text (str): The text to convert to speech.\n",
        "        voice (str): The voice to use for the speech synthesis.\n",
        "        output_file (str): The path where the output audio file will be saved.\n",
        "    \"\"\"\n",
        "    communicate = edge_tts.Communicate(text, voice)\n",
        "    await communicate.save(output_file)\n",
        "\n",
        "def text_to_speech_wrapper(text: str, voice: str, output_file: str):\n",
        "    \"\"\"\n",
        "    Wrapper function to run asynchronous text-to-speech conversion.\n",
        "\n",
        "    Args:\n",
        "        text (str): The text to convert to speech.\n",
        "        voice (str): The voice to use for the speech synthesis.\n",
        "        output_file (str): The path where the output audio file will be saved.\n",
        "    \"\"\"\n",
        "    asyncio.run(text_to_speech(text, voice, output_file))\n"
      ]
    },
    {
      "cell_type": "markdown",
      "metadata": {
        "id": "KAZ7RxhqrAgb"
      },
      "source": [
        "### Pipeline Function"
      ]
    },
    {
      "cell_type": "code",
      "execution_count": 20,
      "metadata": {
        "id": "JUfUW41NrAgb"
      },
      "outputs": [],
      "source": [
        "def pipeline(audio_file):\n",
        "    \"\"\"\n",
        "    Main pipeline to process audio, generate a response, and convert it to speech.\n",
        "\n",
        "    Args:\n",
        "        audio_file (str): Path to the input audio file.\n",
        "\n",
        "    Returns:\n",
        "        tuple: Transcription text, response text, and output file path.\n",
        "    \"\"\"\n",
        "    # Step 1: Transcribe Audio\n",
        "    audio_data = preprocess_audio(audio_file)\n",
        "    save_temp_audio(audio_data)\n",
        "    transcription = transcribe_audio(\"temp.wav\")\n",
        "\n",
        "    # Step 2: Generate Response\n",
        "    answer = process_text_input(transcription)\n",
        "\n",
        "    # Step 3: Convert Response to Speech\n",
        "    output = \"output.mp3\"\n",
        "    text_to_speech_wrapper(answer, VOICES[0], output)\n",
        "\n",
        "    # Return both transcription and output file path\n",
        "    return transcription, answer, output\n"
      ]
    },
    {
      "cell_type": "markdown",
      "metadata": {
        "id": "gYj19BObrAgb"
      },
      "source": [
        "## Step 5 - Gradio Interface"
      ]
    },
    {
      "cell_type": "markdown",
      "metadata": {
        "id": "5mVK8luXrAgb"
      },
      "source": [
        "### Setup and Installation"
      ]
    },
    {
      "cell_type": "code",
      "execution_count": 21,
      "metadata": {
        "colab": {
          "base_uri": "https://localhost:8080/"
        },
        "id": "qe73jhr2q8Mf",
        "outputId": "142ba22a-8722-4ef0-ac67-3aacc5cac1b0"
      },
      "outputs": [
        {
          "output_type": "stream",
          "name": "stdout",
          "text": [
            "Collecting gradio\n",
            "  Downloading gradio-4.42.0-py3-none-any.whl.metadata (15 kB)\n",
            "Collecting aiofiles<24.0,>=22.0 (from gradio)\n",
            "  Downloading aiofiles-23.2.1-py3-none-any.whl.metadata (9.7 kB)\n",
            "Requirement already satisfied: anyio<5.0,>=3.0 in /usr/local/lib/python3.10/dist-packages (from gradio) (3.7.1)\n",
            "Collecting fastapi (from gradio)\n",
            "  Downloading fastapi-0.112.2-py3-none-any.whl.metadata (27 kB)\n",
            "Collecting ffmpy (from gradio)\n",
            "  Downloading ffmpy-0.4.0-py3-none-any.whl.metadata (2.9 kB)\n",
            "Collecting gradio-client==1.3.0 (from gradio)\n",
            "  Downloading gradio_client-1.3.0-py3-none-any.whl.metadata (7.1 kB)\n",
            "Requirement already satisfied: httpx>=0.24.1 in /usr/local/lib/python3.10/dist-packages (from gradio) (0.27.0)\n",
            "Requirement already satisfied: huggingface-hub>=0.19.3 in /usr/local/lib/python3.10/dist-packages (from gradio) (0.23.5)\n",
            "Requirement already satisfied: importlib-resources<7.0,>=1.3 in /usr/local/lib/python3.10/dist-packages (from gradio) (6.4.3)\n",
            "Requirement already satisfied: jinja2<4.0 in /usr/local/lib/python3.10/dist-packages (from gradio) (3.1.4)\n",
            "Requirement already satisfied: markupsafe~=2.0 in /usr/local/lib/python3.10/dist-packages (from gradio) (2.1.5)\n",
            "Requirement already satisfied: matplotlib~=3.0 in /usr/local/lib/python3.10/dist-packages (from gradio) (3.7.1)\n",
            "Requirement already satisfied: numpy<3.0,>=1.0 in /usr/local/lib/python3.10/dist-packages (from gradio) (1.26.4)\n",
            "Requirement already satisfied: orjson~=3.0 in /usr/local/lib/python3.10/dist-packages (from gradio) (3.10.7)\n",
            "Requirement already satisfied: packaging in /usr/local/lib/python3.10/dist-packages (from gradio) (24.1)\n",
            "Requirement already satisfied: pandas<3.0,>=1.0 in /usr/local/lib/python3.10/dist-packages (from gradio) (2.1.4)\n",
            "Requirement already satisfied: pillow<11.0,>=8.0 in /usr/local/lib/python3.10/dist-packages (from gradio) (9.4.0)\n",
            "Requirement already satisfied: pydantic>=2.0 in /usr/local/lib/python3.10/dist-packages (from gradio) (2.8.2)\n",
            "Requirement already satisfied: pydub in /usr/local/lib/python3.10/dist-packages (from gradio) (0.25.1)\n",
            "Collecting python-multipart>=0.0.9 (from gradio)\n",
            "  Downloading python_multipart-0.0.9-py3-none-any.whl.metadata (2.5 kB)\n",
            "Requirement already satisfied: pyyaml<7.0,>=5.0 in /usr/local/lib/python3.10/dist-packages (from gradio) (6.0.2)\n",
            "Collecting ruff>=0.2.2 (from gradio)\n",
            "  Downloading ruff-0.6.2-py3-none-manylinux_2_17_x86_64.manylinux2014_x86_64.whl.metadata (25 kB)\n",
            "Collecting semantic-version~=2.0 (from gradio)\n",
            "  Downloading semantic_version-2.10.0-py2.py3-none-any.whl.metadata (9.7 kB)\n",
            "Collecting tomlkit==0.12.0 (from gradio)\n",
            "  Downloading tomlkit-0.12.0-py3-none-any.whl.metadata (2.7 kB)\n",
            "Requirement already satisfied: typer<1.0,>=0.12 in /usr/local/lib/python3.10/dist-packages (from gradio) (0.12.4)\n",
            "Requirement already satisfied: typing-extensions~=4.0 in /usr/local/lib/python3.10/dist-packages (from gradio) (4.12.2)\n",
            "Requirement already satisfied: urllib3~=2.0 in /usr/local/lib/python3.10/dist-packages (from gradio) (2.0.7)\n",
            "Collecting uvicorn>=0.14.0 (from gradio)\n",
            "  Downloading uvicorn-0.30.6-py3-none-any.whl.metadata (6.6 kB)\n",
            "Requirement already satisfied: fsspec in /usr/local/lib/python3.10/dist-packages (from gradio-client==1.3.0->gradio) (2024.6.1)\n",
            "Collecting websockets<13.0,>=10.0 (from gradio-client==1.3.0->gradio)\n",
            "  Downloading websockets-12.0-cp310-cp310-manylinux_2_5_x86_64.manylinux1_x86_64.manylinux_2_17_x86_64.manylinux2014_x86_64.whl.metadata (6.6 kB)\n",
            "Requirement already satisfied: idna>=2.8 in /usr/local/lib/python3.10/dist-packages (from anyio<5.0,>=3.0->gradio) (3.7)\n",
            "Requirement already satisfied: sniffio>=1.1 in /usr/local/lib/python3.10/dist-packages (from anyio<5.0,>=3.0->gradio) (1.3.1)\n",
            "Requirement already satisfied: exceptiongroup in /usr/local/lib/python3.10/dist-packages (from anyio<5.0,>=3.0->gradio) (1.2.2)\n",
            "Requirement already satisfied: certifi in /usr/local/lib/python3.10/dist-packages (from httpx>=0.24.1->gradio) (2024.7.4)\n",
            "Requirement already satisfied: httpcore==1.* in /usr/local/lib/python3.10/dist-packages (from httpx>=0.24.1->gradio) (1.0.5)\n",
            "Requirement already satisfied: h11<0.15,>=0.13 in /usr/local/lib/python3.10/dist-packages (from httpcore==1.*->httpx>=0.24.1->gradio) (0.14.0)\n",
            "Requirement already satisfied: filelock in /usr/local/lib/python3.10/dist-packages (from huggingface-hub>=0.19.3->gradio) (3.15.4)\n",
            "Requirement already satisfied: requests in /usr/local/lib/python3.10/dist-packages (from huggingface-hub>=0.19.3->gradio) (2.32.3)\n",
            "Requirement already satisfied: tqdm>=4.42.1 in /usr/local/lib/python3.10/dist-packages (from huggingface-hub>=0.19.3->gradio) (4.66.5)\n",
            "Requirement already satisfied: contourpy>=1.0.1 in /usr/local/lib/python3.10/dist-packages (from matplotlib~=3.0->gradio) (1.2.1)\n",
            "Requirement already satisfied: cycler>=0.10 in /usr/local/lib/python3.10/dist-packages (from matplotlib~=3.0->gradio) (0.12.1)\n",
            "Requirement already satisfied: fonttools>=4.22.0 in /usr/local/lib/python3.10/dist-packages (from matplotlib~=3.0->gradio) (4.53.1)\n",
            "Requirement already satisfied: kiwisolver>=1.0.1 in /usr/local/lib/python3.10/dist-packages (from matplotlib~=3.0->gradio) (1.4.5)\n",
            "Requirement already satisfied: pyparsing>=2.3.1 in /usr/local/lib/python3.10/dist-packages (from matplotlib~=3.0->gradio) (3.1.2)\n",
            "Requirement already satisfied: python-dateutil>=2.7 in /usr/local/lib/python3.10/dist-packages (from matplotlib~=3.0->gradio) (2.8.2)\n",
            "Requirement already satisfied: pytz>=2020.1 in /usr/local/lib/python3.10/dist-packages (from pandas<3.0,>=1.0->gradio) (2024.1)\n",
            "Requirement already satisfied: tzdata>=2022.1 in /usr/local/lib/python3.10/dist-packages (from pandas<3.0,>=1.0->gradio) (2024.1)\n",
            "Requirement already satisfied: annotated-types>=0.4.0 in /usr/local/lib/python3.10/dist-packages (from pydantic>=2.0->gradio) (0.7.0)\n",
            "Requirement already satisfied: pydantic-core==2.20.1 in /usr/local/lib/python3.10/dist-packages (from pydantic>=2.0->gradio) (2.20.1)\n",
            "Requirement already satisfied: click>=8.0.0 in /usr/local/lib/python3.10/dist-packages (from typer<1.0,>=0.12->gradio) (8.1.7)\n",
            "Requirement already satisfied: shellingham>=1.3.0 in /usr/local/lib/python3.10/dist-packages (from typer<1.0,>=0.12->gradio) (1.5.4)\n",
            "Requirement already satisfied: rich>=10.11.0 in /usr/local/lib/python3.10/dist-packages (from typer<1.0,>=0.12->gradio) (13.7.1)\n",
            "Collecting starlette<0.39.0,>=0.37.2 (from fastapi->gradio)\n",
            "  Downloading starlette-0.38.2-py3-none-any.whl.metadata (5.9 kB)\n",
            "Requirement already satisfied: six>=1.5 in /usr/local/lib/python3.10/dist-packages (from python-dateutil>=2.7->matplotlib~=3.0->gradio) (1.16.0)\n",
            "Requirement already satisfied: markdown-it-py>=2.2.0 in /usr/local/lib/python3.10/dist-packages (from rich>=10.11.0->typer<1.0,>=0.12->gradio) (3.0.0)\n",
            "Requirement already satisfied: pygments<3.0.0,>=2.13.0 in /usr/local/lib/python3.10/dist-packages (from rich>=10.11.0->typer<1.0,>=0.12->gradio) (2.16.1)\n",
            "Requirement already satisfied: charset-normalizer<4,>=2 in /usr/local/lib/python3.10/dist-packages (from requests->huggingface-hub>=0.19.3->gradio) (3.3.2)\n",
            "Requirement already satisfied: mdurl~=0.1 in /usr/local/lib/python3.10/dist-packages (from markdown-it-py>=2.2.0->rich>=10.11.0->typer<1.0,>=0.12->gradio) (0.1.2)\n",
            "Downloading gradio-4.42.0-py3-none-any.whl (16.8 MB)\n",
            "\u001b[2K   \u001b[90m━━━━━━━━━━━━━━━━━━━━━━━━━━━━━━━━━━━━━━━━\u001b[0m \u001b[32m16.8/16.8 MB\u001b[0m \u001b[31m53.8 MB/s\u001b[0m eta \u001b[36m0:00:00\u001b[0m\n",
            "\u001b[?25hDownloading gradio_client-1.3.0-py3-none-any.whl (318 kB)\n",
            "\u001b[2K   \u001b[90m━━━━━━━━━━━━━━━━━━━━━━━━━━━━━━━━━━━━━━━━\u001b[0m \u001b[32m318.7/318.7 kB\u001b[0m \u001b[31m23.6 MB/s\u001b[0m eta \u001b[36m0:00:00\u001b[0m\n",
            "\u001b[?25hDownloading tomlkit-0.12.0-py3-none-any.whl (37 kB)\n",
            "Downloading aiofiles-23.2.1-py3-none-any.whl (15 kB)\n",
            "Downloading python_multipart-0.0.9-py3-none-any.whl (22 kB)\n",
            "Downloading ruff-0.6.2-py3-none-manylinux_2_17_x86_64.manylinux2014_x86_64.whl (10.3 MB)\n",
            "\u001b[2K   \u001b[90m━━━━━━━━━━━━━━━━━━━━━━━━━━━━━━━━━━━━━━━━\u001b[0m \u001b[32m10.3/10.3 MB\u001b[0m \u001b[31m65.6 MB/s\u001b[0m eta \u001b[36m0:00:00\u001b[0m\n",
            "\u001b[?25hDownloading semantic_version-2.10.0-py2.py3-none-any.whl (15 kB)\n",
            "Downloading uvicorn-0.30.6-py3-none-any.whl (62 kB)\n",
            "\u001b[2K   \u001b[90m━━━━━━━━━━━━━━━━━━━━━━━━━━━━━━━━━━━━━━━━\u001b[0m \u001b[32m62.8/62.8 kB\u001b[0m \u001b[31m2.2 MB/s\u001b[0m eta \u001b[36m0:00:00\u001b[0m\n",
            "\u001b[?25hDownloading fastapi-0.112.2-py3-none-any.whl (93 kB)\n",
            "\u001b[2K   \u001b[90m━━━━━━━━━━━━━━━━━━━━━━━━━━━━━━━━━━━━━━━━\u001b[0m \u001b[32m93.5/93.5 kB\u001b[0m \u001b[31m8.2 MB/s\u001b[0m eta \u001b[36m0:00:00\u001b[0m\n",
            "\u001b[?25hDownloading ffmpy-0.4.0-py3-none-any.whl (5.8 kB)\n",
            "Downloading starlette-0.38.2-py3-none-any.whl (72 kB)\n",
            "\u001b[2K   \u001b[90m━━━━━━━━━━━━━━━━━━━━━━━━━━━━━━━━━━━━━━━━\u001b[0m \u001b[32m72.0/72.0 kB\u001b[0m \u001b[31m2.7 MB/s\u001b[0m eta \u001b[36m0:00:00\u001b[0m\n",
            "\u001b[?25hDownloading websockets-12.0-cp310-cp310-manylinux_2_5_x86_64.manylinux1_x86_64.manylinux_2_17_x86_64.manylinux2014_x86_64.whl (130 kB)\n",
            "\u001b[2K   \u001b[90m━━━━━━━━━━━━━━━━━━━━━━━━━━━━━━━━━━━━━━━━\u001b[0m \u001b[32m130.2/130.2 kB\u001b[0m \u001b[31m9.8 MB/s\u001b[0m eta \u001b[36m0:00:00\u001b[0m\n",
            "\u001b[?25hInstalling collected packages: websockets, uvicorn, tomlkit, semantic-version, ruff, python-multipart, ffmpy, aiofiles, starlette, gradio-client, fastapi, gradio\n",
            "  Attempting uninstall: tomlkit\n",
            "    Found existing installation: tomlkit 0.13.2\n",
            "    Uninstalling tomlkit-0.13.2:\n",
            "      Successfully uninstalled tomlkit-0.13.2\n",
            "Successfully installed aiofiles-23.2.1 fastapi-0.112.2 ffmpy-0.4.0 gradio-4.42.0 gradio-client-1.3.0 python-multipart-0.0.9 ruff-0.6.2 semantic-version-2.10.0 starlette-0.38.2 tomlkit-0.12.0 uvicorn-0.30.6 websockets-12.0\n"
          ]
        }
      ],
      "source": [
        "!pip install gradio"
      ]
    },
    {
      "cell_type": "markdown",
      "metadata": {
        "id": "qlW5fAFXrAgb"
      },
      "source": [
        "### Interface Function"
      ]
    },
    {
      "cell_type": "code",
      "execution_count": 22,
      "metadata": {
        "id": "yp7PXIRMr_fM"
      },
      "outputs": [],
      "source": [
        "def gradio_interface(audio_file):\n",
        "    \"\"\"\n",
        "    Gradio interface function to use the pipeline.\n",
        "\n",
        "    Args:\n",
        "        audio_file (str): Path to the input audio file.\n",
        "\n",
        "    Returns:\n",
        "        tuple: Transcription text, response text, and output file path.\n",
        "    \"\"\"\n",
        "    transcription, answer, output_file = pipeline(audio_file)\n",
        "    return transcription, answer, output_file"
      ]
    },
    {
      "cell_type": "markdown",
      "metadata": {
        "id": "GtE85ZPDrAgb"
      },
      "source": [
        "### Importing Libraries"
      ]
    },
    {
      "cell_type": "code",
      "execution_count": 23,
      "metadata": {
        "id": "7Hp6EBq6rAgb"
      },
      "outputs": [],
      "source": [
        "import gradio as gr"
      ]
    },
    {
      "cell_type": "markdown",
      "metadata": {
        "id": "rM75Z2garAgb"
      },
      "source": [
        "### Define Gradio app"
      ]
    },
    {
      "cell_type": "code",
      "execution_count": 24,
      "metadata": {
        "id": "nnPRKp82q53x"
      },
      "outputs": [],
      "source": [
        "app = gr.Interface(\n",
        "    fn=gradio_interface,\n",
        "    inputs=gr.Audio(type=\"filepath\"),\n",
        "    outputs=[gr.Textbox(), gr.Textbox(), gr.Audio(type=\"filepath\")],\n",
        "    title=\"Voice Query Pipeline\",\n",
        "    description=\"Upload an audio file to convert voice to text, generate a response using LLaMA, and convert the response back to speech.\"\n",
        ")"
      ]
    },
    {
      "cell_type": "markdown",
      "metadata": {
        "id": "3iBwgj6grAgc"
      },
      "source": [
        "### Launch Gradio interface"
      ]
    },
    {
      "cell_type": "code",
      "execution_count": 25,
      "metadata": {
        "colab": {
          "base_uri": "https://localhost:8080/",
          "height": 646
        },
        "id": "ufalgSEMrAgc",
        "outputId": "82ca6340-908c-4904-d44b-18d87d25200f"
      },
      "outputs": [
        {
          "output_type": "stream",
          "name": "stdout",
          "text": [
            "Setting queue=True in a Colab notebook requires sharing enabled. Setting `share=True` (you can turn this off by setting `share=False` in `launch()` explicitly).\n",
            "\n",
            "Colab notebook detected. To show errors in colab notebook, set debug=True in launch()\n",
            "Running on public URL: https://b4c702abf1c6004c02.gradio.live\n",
            "\n",
            "This share link expires in 72 hours. For free permanent hosting and GPU upgrades, run `gradio deploy` from Terminal to deploy to Spaces (https://huggingface.co/spaces)\n"
          ]
        },
        {
          "output_type": "display_data",
          "data": {
            "text/plain": [
              "<IPython.core.display.HTML object>"
            ],
            "text/html": [
              "<div><iframe src=\"https://b4c702abf1c6004c02.gradio.live\" width=\"100%\" height=\"500\" allow=\"autoplay; camera; microphone; clipboard-read; clipboard-write;\" frameborder=\"0\" allowfullscreen></iframe></div>"
            ]
          },
          "metadata": {}
        },
        {
          "output_type": "execute_result",
          "data": {
            "text/plain": []
          },
          "metadata": {},
          "execution_count": 25
        }
      ],
      "source": [
        "app.launch()"
      ]
    }
  ],
  "metadata": {
    "accelerator": "GPU",
    "colab": {
      "gpuType": "T4",
      "provenance": []
    },
    "kernelspec": {
      "display_name": "Python 3",
      "name": "python3"
    },
    "language_info": {
      "name": "python",
      "version": "3.12.3"
    }
  },
  "nbformat": 4,
  "nbformat_minor": 0
}